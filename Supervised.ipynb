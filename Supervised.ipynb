{
 "cells": [
  {
   "cell_type": "code",
   "execution_count": 43,
   "id": "0da83bac-2a89-48b4-be4e-7f93e511f8a8",
   "metadata": {},
   "outputs": [],
   "source": [
    "#Libraries\n",
    "import numpy as np\n",
    "import pandas as pd\n",
    "from sklearn.model_selection import train_test_split\n",
    "from sklearn.preprocessing import LabelEncoder, StandardScaler\n",
    "from sklearn.linear_model import LogisticRegression\n",
    "from sklearn.svm import SVC\n",
    "from sklearn.neighbors import KNeighborsClassifier\n",
    "from sklearn.tree import DecisionTreeClassifier\n",
    "from sklearn.ensemble import RandomForestClassifier\n",
    "#from sklearn.model_selection import RandomizedSearchCV\n",
    "from sklearn.model_selection import GridSearchCV\n",
    "from xgboost import XGBClassifier\n",
    "from sklearn.metrics import accuracy_score, precision_score, recall_score, f1_score,classification_report, confusion_matrix\n",
    "\n",
    "import matplotlib.pyplot as plt\n",
    "\n",
    "\n",
    "import warnings\n",
    "warnings.filterwarnings('ignore')"
   ]
  },
  {
   "cell_type": "code",
   "execution_count": 44,
   "id": "84c05b54-cb38-43c0-824f-2f304f272bd4",
   "metadata": {},
   "outputs": [],
   "source": [
    "watch_data=pd.read_csv(\"watches_cleaned.csv\")"
   ]
  },
  {
   "cell_type": "code",
   "execution_count": 45,
   "id": "75c6077a-f587-4eaf-b2c6-81553650dab3",
   "metadata": {},
   "outputs": [
    {
     "data": {
      "text/plain": [
       "Index(['Name', 'Price(₹)', 'Brand', 'Ratings', 'Reviews', 'Type', 'Gender',\n",
       "       'Price_Range'],\n",
       "      dtype='object')"
      ]
     },
     "execution_count": 45,
     "metadata": {},
     "output_type": "execute_result"
    }
   ],
   "source": [
    "watch_data.columns"
   ]
  },
  {
   "cell_type": "code",
   "execution_count": 46,
   "id": "498a4ec5-1763-44a8-8737-3a90cfca3e6b",
   "metadata": {},
   "outputs": [],
   "source": [
    "# Store encoders for categorical columns\n",
    "encoders = {}\n",
    "for col in watch_data.select_dtypes(include=['object']).columns:\n",
    "    le = LabelEncoder()\n",
    "    watch_data[col] = le.fit_transform(watch_data[col])\n",
    "    encoders[col] = le\n"
   ]
  },
  {
   "cell_type": "code",
   "execution_count": 47,
   "id": "aebde34f-045d-4c3f-a193-55fec245953d",
   "metadata": {},
   "outputs": [
    {
     "data": {
      "text/html": [
       "<div>\n",
       "<style scoped>\n",
       "    .dataframe tbody tr th:only-of-type {\n",
       "        vertical-align: middle;\n",
       "    }\n",
       "\n",
       "    .dataframe tbody tr th {\n",
       "        vertical-align: top;\n",
       "    }\n",
       "\n",
       "    .dataframe thead th {\n",
       "        text-align: right;\n",
       "    }\n",
       "</style>\n",
       "<table border=\"1\" class=\"dataframe\">\n",
       "  <thead>\n",
       "    <tr style=\"text-align: right;\">\n",
       "      <th></th>\n",
       "      <th>Name</th>\n",
       "      <th>Price(₹)</th>\n",
       "      <th>Brand</th>\n",
       "      <th>Ratings</th>\n",
       "      <th>Reviews</th>\n",
       "      <th>Type</th>\n",
       "      <th>Gender</th>\n",
       "      <th>Price_Range</th>\n",
       "    </tr>\n",
       "  </thead>\n",
       "  <tbody>\n",
       "    <tr>\n",
       "      <th>0</th>\n",
       "      <td>78</td>\n",
       "      <td>209</td>\n",
       "      <td>146</td>\n",
       "      <td>2.0</td>\n",
       "      <td>71</td>\n",
       "      <td>0</td>\n",
       "      <td>0</td>\n",
       "      <td>1</td>\n",
       "    </tr>\n",
       "    <tr>\n",
       "      <th>1</th>\n",
       "      <td>929</td>\n",
       "      <td>279</td>\n",
       "      <td>92</td>\n",
       "      <td>4.5</td>\n",
       "      <td>93</td>\n",
       "      <td>0</td>\n",
       "      <td>0</td>\n",
       "      <td>1</td>\n",
       "    </tr>\n",
       "    <tr>\n",
       "      <th>2</th>\n",
       "      <td>882</td>\n",
       "      <td>386</td>\n",
       "      <td>125</td>\n",
       "      <td>2.6</td>\n",
       "      <td>235</td>\n",
       "      <td>1</td>\n",
       "      <td>3</td>\n",
       "      <td>1</td>\n",
       "    </tr>\n",
       "    <tr>\n",
       "      <th>3</th>\n",
       "      <td>814</td>\n",
       "      <td>1359</td>\n",
       "      <td>53</td>\n",
       "      <td>1.3</td>\n",
       "      <td>394</td>\n",
       "      <td>0</td>\n",
       "      <td>5</td>\n",
       "      <td>0</td>\n",
       "    </tr>\n",
       "    <tr>\n",
       "      <th>4</th>\n",
       "      <td>873</td>\n",
       "      <td>900</td>\n",
       "      <td>36</td>\n",
       "      <td>4.4</td>\n",
       "      <td>169</td>\n",
       "      <td>0</td>\n",
       "      <td>5</td>\n",
       "      <td>3</td>\n",
       "    </tr>\n",
       "  </tbody>\n",
       "</table>\n",
       "</div>"
      ],
      "text/plain": [
       "   Name  Price(₹)  Brand  Ratings  Reviews  Type  Gender  Price_Range\n",
       "0    78       209    146      2.0       71     0       0            1\n",
       "1   929       279     92      4.5       93     0       0            1\n",
       "2   882       386    125      2.6      235     1       3            1\n",
       "3   814      1359     53      1.3      394     0       5            0\n",
       "4   873       900     36      4.4      169     0       5            3"
      ]
     },
     "execution_count": 47,
     "metadata": {},
     "output_type": "execute_result"
    }
   ],
   "source": [
    "watch_data.head()"
   ]
  },
  {
   "cell_type": "code",
   "execution_count": 48,
   "id": "82c51838-9bb7-4c7a-92ac-fb00c4f9c97b",
   "metadata": {},
   "outputs": [],
   "source": [
    "X = watch_data[['Type', 'Ratings', 'Reviews', 'Brand', 'Gender']]\n",
    "y = watch_data['Price_Range']"
   ]
  },
  {
   "cell_type": "code",
   "execution_count": 49,
   "id": "9db496bb-5b14-4656-9827-6ef60bd0e28c",
   "metadata": {},
   "outputs": [],
   "source": [
    "#Train-Test Split\n",
    "X_train, X_test, y_train, y_test = train_test_split( X, y, test_size=0.2, random_state=42) "
   ]
  },
  {
   "cell_type": "code",
   "execution_count": 50,
   "id": "7be5e2c3-980a-49bb-aff8-d1ea5c8479c0",
   "metadata": {},
   "outputs": [
    {
     "name": "stdout",
     "output_type": "stream",
     "text": [
      "X_Training Data 2272\n",
      "X_Testing Data 568\n",
      "Y_Training Data 2272\n",
      "Y_Testing Data 568\n"
     ]
    }
   ],
   "source": [
    "print(\"X_Training Data\",len(X_train))\n",
    "print(\"X_Testing Data\",len(X_test))\n",
    "print(\"Y_Training Data\",len(y_train))\n",
    "print(\"Y_Testing Data\",len(y_test))"
   ]
  },
  {
   "cell_type": "code",
   "execution_count": 51,
   "id": "6f2cda8b-1747-4c40-9f2a-93280befd807",
   "metadata": {},
   "outputs": [],
   "source": [
    "#Scaling \n",
    "scaler=StandardScaler()\n",
    "X_train=scaler.fit_transform(X_train)\n",
    "X_test=scaler.transform(X_test)"
   ]
  },
  {
   "cell_type": "code",
   "execution_count": 52,
   "id": "5536f6ee-6479-4f39-8aa3-75b7afb1b026",
   "metadata": {},
   "outputs": [
    {
     "data": {
      "text/html": [
       "<div>\n",
       "<style scoped>\n",
       "    .dataframe tbody tr th:only-of-type {\n",
       "        vertical-align: middle;\n",
       "    }\n",
       "\n",
       "    .dataframe tbody tr th {\n",
       "        vertical-align: top;\n",
       "    }\n",
       "\n",
       "    .dataframe thead th {\n",
       "        text-align: right;\n",
       "    }\n",
       "</style>\n",
       "<table border=\"1\" class=\"dataframe\">\n",
       "  <thead>\n",
       "    <tr style=\"text-align: right;\">\n",
       "      <th></th>\n",
       "      <th>Name</th>\n",
       "      <th>Price(₹)</th>\n",
       "      <th>Brand</th>\n",
       "      <th>Ratings</th>\n",
       "      <th>Reviews</th>\n",
       "      <th>Type</th>\n",
       "      <th>Gender</th>\n",
       "      <th>Price_Range</th>\n",
       "    </tr>\n",
       "  </thead>\n",
       "  <tbody>\n",
       "    <tr>\n",
       "      <th>0</th>\n",
       "      <td>78</td>\n",
       "      <td>209</td>\n",
       "      <td>146</td>\n",
       "      <td>2.0</td>\n",
       "      <td>71</td>\n",
       "      <td>0</td>\n",
       "      <td>0</td>\n",
       "      <td>1</td>\n",
       "    </tr>\n",
       "    <tr>\n",
       "      <th>1</th>\n",
       "      <td>929</td>\n",
       "      <td>279</td>\n",
       "      <td>92</td>\n",
       "      <td>4.5</td>\n",
       "      <td>93</td>\n",
       "      <td>0</td>\n",
       "      <td>0</td>\n",
       "      <td>1</td>\n",
       "    </tr>\n",
       "    <tr>\n",
       "      <th>2</th>\n",
       "      <td>882</td>\n",
       "      <td>386</td>\n",
       "      <td>125</td>\n",
       "      <td>2.6</td>\n",
       "      <td>235</td>\n",
       "      <td>1</td>\n",
       "      <td>3</td>\n",
       "      <td>1</td>\n",
       "    </tr>\n",
       "    <tr>\n",
       "      <th>3</th>\n",
       "      <td>814</td>\n",
       "      <td>1359</td>\n",
       "      <td>53</td>\n",
       "      <td>1.3</td>\n",
       "      <td>394</td>\n",
       "      <td>0</td>\n",
       "      <td>5</td>\n",
       "      <td>0</td>\n",
       "    </tr>\n",
       "    <tr>\n",
       "      <th>4</th>\n",
       "      <td>873</td>\n",
       "      <td>900</td>\n",
       "      <td>36</td>\n",
       "      <td>4.4</td>\n",
       "      <td>169</td>\n",
       "      <td>0</td>\n",
       "      <td>5</td>\n",
       "      <td>3</td>\n",
       "    </tr>\n",
       "  </tbody>\n",
       "</table>\n",
       "</div>"
      ],
      "text/plain": [
       "   Name  Price(₹)  Brand  Ratings  Reviews  Type  Gender  Price_Range\n",
       "0    78       209    146      2.0       71     0       0            1\n",
       "1   929       279     92      4.5       93     0       0            1\n",
       "2   882       386    125      2.6      235     1       3            1\n",
       "3   814      1359     53      1.3      394     0       5            0\n",
       "4   873       900     36      4.4      169     0       5            3"
      ]
     },
     "execution_count": 52,
     "metadata": {},
     "output_type": "execute_result"
    }
   ],
   "source": [
    "watch_data.head()"
   ]
  },
  {
   "cell_type": "code",
   "execution_count": 64,
   "id": "0ec5e9d2-04b1-4434-8010-751b0f48822b",
   "metadata": {},
   "outputs": [
    {
     "name": "stdout",
     "output_type": "stream",
     "text": [
      "\n",
      " Training Logistic Regression Model\n",
      "Accuracy: 0.4824\n",
      "Classification Report:\n",
      "               precision    recall  f1-score   support\n",
      "\n",
      "           0       0.39      0.60      0.47       134\n",
      "           1       0.56      0.78      0.65       246\n",
      "           2       0.00      0.00      0.00        14\n",
      "           3       0.00      0.00      0.00        90\n",
      "           4       0.12      0.03      0.04        76\n",
      "           5       0.00      0.00      0.00         8\n",
      "\n",
      "    accuracy                           0.48       568\n",
      "   macro avg       0.18      0.23      0.19       568\n",
      "weighted avg       0.35      0.48      0.40       568\n",
      "\n",
      "\n",
      " Training SVM Model\n",
      "Accuracy: 0.6320\n",
      "Classification Report:\n",
      "               precision    recall  f1-score   support\n",
      "\n",
      "           0       0.55      0.60      0.57       134\n",
      "           1       0.65      0.93      0.76       246\n",
      "           2       0.00      0.00      0.00        14\n",
      "           3       0.66      0.37      0.47        90\n",
      "           4       0.94      0.21      0.34        76\n",
      "           5       0.00      0.00      0.00         8\n",
      "\n",
      "    accuracy                           0.63       568\n",
      "   macro avg       0.47      0.35      0.36       568\n",
      "weighted avg       0.64      0.63      0.59       568\n",
      "\n",
      "\n",
      " Training KNN Model\n",
      "Accuracy: 0.6567\n",
      "Classification Report:\n",
      "               precision    recall  f1-score   support\n",
      "\n",
      "           0       0.52      0.75      0.61       134\n",
      "           1       0.81      0.82      0.82       246\n",
      "           2       0.30      0.21      0.25        14\n",
      "           3       0.69      0.42      0.52        90\n",
      "           4       0.50      0.39      0.44        76\n",
      "           5       0.00      0.00      0.00         8\n",
      "\n",
      "    accuracy                           0.66       568\n",
      "   macro avg       0.47      0.43      0.44       568\n",
      "weighted avg       0.66      0.66      0.65       568\n",
      "\n",
      "\n",
      " Training Random Forest Model\n",
      "Accuracy: 0.7764\n",
      "Classification Report:\n",
      "               precision    recall  f1-score   support\n",
      "\n",
      "           0       0.73      0.76      0.74       134\n",
      "           1       0.87      0.96      0.92       246\n",
      "           2       0.17      0.07      0.10        14\n",
      "           3       0.71      0.51      0.59        90\n",
      "           4       0.64      0.72      0.68        76\n",
      "           5       0.00      0.00      0.00         8\n",
      "\n",
      "    accuracy                           0.78       568\n",
      "   macro avg       0.52      0.51      0.51       568\n",
      "weighted avg       0.75      0.78      0.76       568\n",
      "\n",
      "\n",
      " Training XGBoost Model\n",
      "Accuracy: 0.8099\n",
      "Classification Report:\n",
      "               precision    recall  f1-score   support\n",
      "\n",
      "           0       0.73      0.82      0.77       134\n",
      "           1       0.94      0.99      0.96       246\n",
      "           2       0.20      0.14      0.17        14\n",
      "           3       0.77      0.54      0.64        90\n",
      "           4       0.65      0.72      0.69        76\n",
      "           5       0.50      0.12      0.20         8\n",
      "\n",
      "    accuracy                           0.81       568\n",
      "   macro avg       0.63      0.56      0.57       568\n",
      "weighted avg       0.80      0.81      0.80       568\n",
      "\n",
      "\n",
      " Model Performance Summary:\n",
      "\n",
      "\n",
      "Result:\n",
      "                      Accuracy  Precision    Recall  F1-Score\n",
      "Model                                                       \n",
      "XGBoost              0.809859   0.801818  0.809859  0.800129\n",
      "Random Forest        0.776408   0.752457  0.776408  0.760089\n",
      "KNN                  0.656690   0.657356  0.656690  0.646012\n",
      "SVM                  0.632042   0.640481  0.632042  0.586969\n",
      "Logistic Regression  0.482394   0.348646  0.482394  0.398330\n"
     ]
    }
   ],
   "source": [
    "# Define models\n",
    "models = {\n",
    "    \"Logistic Regression\": LogisticRegression(max_iter=1000),\n",
    "    \"SVM\": SVC(),\n",
    "    \"KNN\": KNeighborsClassifier(),\n",
    "    \"Random Forest\": RandomForestClassifier(),\n",
    "    \"XGBoost\": XGBClassifier(use_label_encoder=False, eval_metric='mlogloss')\n",
    "}\n",
    "\n",
    "results = []\n",
    "trained_models = {}\n",
    "for name, model in models.items():\n",
    "    print(f\"\\n Training {name} Model\")\n",
    "    model.fit(X_train, y_train)\n",
    "    y_pred = model.predict(X_test)\n",
    "\n",
    "    accuracy = accuracy_score(y_test, y_pred)\n",
    "    precision = precision_score(y_test, y_pred, average=\"weighted\")\n",
    "    recall = recall_score(y_test, y_pred, average=\"weighted\")\n",
    "    f1 = f1_score(y_test, y_pred, average=\"weighted\")\n",
    "\n",
    "    results.append([name, accuracy, precision, recall, f1])\n",
    "    \n",
    "    print(f\"Accuracy: {accuracy:.4f}\")\n",
    "    print(\"Classification Report:\\n\", classification_report(y_test, y_pred))\n",
    "    #print(\"Confusion Matrix:\\n\", confusion_matrix(y_test, y_pred))\n",
    "    trained_models[name] = model\n",
    "# Creating DataFrame \n",
    "results_df = pd.DataFrame(results, columns=[\"Model\", \"Accuracy\", \"Precision\", \"Recall\", \"F1-Score\"])\n",
    "results_df.set_index('Model', inplace=True)\n",
    "results_df.sort_values(by='Accuracy', ascending=False, inplace=True)\n",
    "\n",
    "\n",
    "print(\"\\n Model Performance Summary:\\n\")\n",
    "print(\"\\nResult:\\n\", results_df)\n",
    "\n"
   ]
  },
  {
   "cell_type": "code",
   "execution_count": 54,
   "id": "a0398c6a-13c6-4e52-b9b8-ec9dee700e6e",
   "metadata": {},
   "outputs": [],
   "source": [
    "#  XGBoost with hyperparameter tuning using GridSearchCV\n",
    "param_grid = {\n",
    "    'n_estimators': [100, 200, 300],\n",
    "    'max_depth': [3, 5, 7],\n",
    "    'colsample_bytree': [0.7, 0.8, 1.0],\n",
    "    'gamma': [0, 1, 2],\n",
    "    'min_child_weight': [1, 3, 5]\n",
    "}\n",
    "\n",
    "xgb = XGBClassifier(\n",
    "    n_estimators=300, learning_rate=0.05, max_depth=6,subsample=0.8, colsample_bytree=0.8,\n",
    "    use_label_encoder=False, eval_metric='mlogloss', random_state=42 )\n",
    "\n",
    "grid_search = GridSearchCV(\n",
    "    estimator=xgb,\n",
    "    param_grid=param_grid,\n",
    "    scoring='accuracy',\n",
    "    cv=3,\n",
    "    verbose=1,\n",
    "    n_jobs=-1\n",
    ")\n"
   ]
  },
  {
   "cell_type": "code",
   "execution_count": 55,
   "id": "a1b92f3d-e6ad-42d7-b1d5-96933ddeb2fd",
   "metadata": {},
   "outputs": [
    {
     "name": "stdout",
     "output_type": "stream",
     "text": [
      "Fitting 3 folds for each of 243 candidates, totalling 729 fits\n",
      "Best XGBoost Params: {'colsample_bytree': 0.7, 'gamma': 1, 'max_depth': 7, 'min_child_weight': 1, 'n_estimators': 200}\n",
      "\n",
      "Result_DF :\n",
      "                  Model  Accuracy  Precision    Recall  F1 Score\n",
      "0  Logistic Regression  0.482394   0.348646  0.482394  0.398330\n",
      "1                  SVM  0.632042   0.640481  0.632042  0.586969\n",
      "2                  KNN  0.656690   0.657356  0.656690  0.646012\n",
      "3        Random Forest  0.783451   0.761209  0.783451  0.767401\n",
      "4              XGBoost  0.809859   0.801818  0.809859  0.800129\n"
     ]
    }
   ],
   "source": [
    "grid_search.fit(X_train, y_train)\n",
    "best_xgb = grid_search.best_estimator_\n",
    "models[\"XGBoost (Tuned)\"] = best_xgb\n",
    "\n",
    "print(\"Best XGBoost Params:\", grid_search.best_params_)\n",
    "\n",
    "results_df = pd.DataFrame(results, columns=[\"Model\", \"Accuracy\", \"Precision\", \"Recall\", \"F1 Score\"])\n",
    "print(\"\\nResult_DF :\\n\",results_df)\n"
   ]
  },
  {
   "cell_type": "code",
   "execution_count": 56,
   "id": "1c538128-c36f-40ca-8207-aa760c1f5408",
   "metadata": {},
   "outputs": [
    {
     "name": "stdout",
     "output_type": "stream",
     "text": [
      "Predictions: [4 3 1 1 4 3 4 3 1 1 0 1 3 4 1 1 0 1 0 1]\n",
      "\n",
      "Tuned XGBoost Accuracy: 0.8204\n",
      "Classification Report:\n",
      "               precision    recall  f1-score   support\n",
      "\n",
      "           0       0.73      0.88      0.80       134\n",
      "           1       0.91      1.00      0.95       246\n",
      "           2       0.20      0.07      0.11        14\n",
      "           3       0.89      0.52      0.66        90\n",
      "           4       0.69      0.72      0.71        76\n",
      "           5       0.00      0.00      0.00         8\n",
      "\n",
      "    accuracy                           0.82       568\n",
      "   macro avg       0.57      0.53      0.54       568\n",
      "weighted avg       0.81      0.82      0.80       568\n",
      "\n",
      "Confusion Matrix:\n",
      " [[118   1   2   5   8   0]\n",
      " [  1 245   0   0   0   0]\n",
      " [  2   2   1   0   9   0]\n",
      " [ 24  11   0  47   8   0]\n",
      " [ 17   2   1   1  55   0]\n",
      " [  0   7   1   0   0   0]]\n"
     ]
    }
   ],
   "source": [
    "# Predicting on test data\n",
    "y_pred = best_xgb.predict(X_test)\n",
    "print(\"Predictions:\", y_pred[:20])   \n",
    "\n",
    "xgb_acc = accuracy_score(y_test, y_pred)\n",
    "print(f\"\\nTuned XGBoost Accuracy: {xgb_acc:.4f}\")\n",
    "print(\"Classification Report:\\n\", classification_report(y_test, y_pred))\n",
    "print(\"Confusion Matrix:\\n\", confusion_matrix(y_test, y_pred))\n"
   ]
  },
  {
   "cell_type": "code",
   "execution_count": 57,
   "id": "a8436bdc-f5c6-4c53-ad75-f2c4046d411e",
   "metadata": {},
   "outputs": [
    {
     "name": "stdout",
     "output_type": "stream",
     "text": [
      "\n",
      " Best Parameters: {'colsample_bytree': 0.7, 'gamma': 1, 'max_depth': 7, 'min_child_weight': 1, 'n_estimators': 200}\n",
      " Best CV F1-Score: 0.7926924198538646\n"
     ]
    }
   ],
   "source": [
    "# Best parameters and CV score\n",
    "print(\"\\n Best Parameters:\", grid_search.best_params_)\n",
    "print(\" Best CV F1-Score:\", grid_search.best_score_)"
   ]
  },
  {
   "cell_type": "code",
   "execution_count": 58,
   "id": "0146a615-c25f-4c30-bf27-00060d57671c",
   "metadata": {},
   "outputs": [
    {
     "data": {
      "image/png": "[encoded data removed]",
      "text/plain": [
       "<Figure size 1200x600 with 1 Axes>"
      ]
     },
     "metadata": {},
     "output_type": "display_data"
    }
   ],
   "source": [
    "\n",
    "results_df.set_index('Model', inplace=True)\n",
    "\n",
    "results_df[['Accuracy','Precision','Recall','F1 Score']].plot( kind='bar', colormap='cividis', figsize=(12,6))\n",
    "\n",
    "plt.title(\"Model Performance Comparison\")\n",
    "plt.ylabel(\"Score\")\n",
    "plt.xticks(rotation=45)\n",
    "plt.legend(loc=\"upper left\")\n",
    "plt.show()\n"
   ]
  },
  {
   "cell_type": "code",
   "execution_count": 63,
   "id": "46ac7cbe-24f2-48a8-a4f3-e1395bd9386d",
   "metadata": {},
   "outputs": [
    {
     "name": "stdout",
     "output_type": "stream",
     "text": [
      "* Running on local URL:  http://127.0.0.1:7864\n",
      "* To create a public link, set `share=True` in `launch()`.\n"
     ]
    },
    {
     "data": {
      "text/html": [
       "<div><iframe src=\"http://127.0.0.1:7864/\" width=\"100%\" height=\"500\" allow=\"autoplay; camera; microphone; clipboard-read; clipboard-write;\" frameborder=\"0\" allowfullscreen></iframe></div>"
      ],
      "text/plain": [
       "<IPython.core.display.HTML object>"
      ]
     },
     "metadata": {},
     "output_type": "display_data"
    },
    {
     "data": {
      "text/plain": []
     },
     "execution_count": 63,
     "metadata": {},
     "output_type": "execute_result"
    }
   ],
   "source": [
    "import gradio as gr\n",
    "import numpy as np\n",
    "\n",
    "# Assume these are already defined:\n",
    "# trained_models -> dict of trained models\n",
    "# encoders -> dict of LabelEncoders: {'Type', 'Brand', 'Gender', 'Price_Range'}\n",
    "# scaler -> fitted scaler used for features\n",
    "\n",
    "def predict_price_range(model_name, type_, ratings, reviews, brand, gender):\n",
    "    try:\n",
    "        # Convert numeric inputs\n",
    "        ratings = float(ratings)\n",
    "        reviews = float(reviews)\n",
    "\n",
    "        # Validate categorical inputs\n",
    "        for col_name, value in zip(['Type', 'Brand', 'Gender'],\n",
    "                                   [type_, brand, gender]):\n",
    "            if value not in encoders[col_name].classes_:\n",
    "                return f\"Error: '{value}' not found in {col_name} encoder\"\n",
    "\n",
    "        # Encode categorical features\n",
    "        type_enc = encoders['Type'].transform([type_])[0]\n",
    "        brand_enc = encoders['Brand'].transform([brand])[0]\n",
    "        gender_enc = encoders['Gender'].transform([gender])[0]\n",
    "\n",
    "        # Build input row (ensure order matches training)\n",
    "        row = [[type_enc, ratings, reviews, brand_enc, gender_enc]]\n",
    "        row_scaled = scaler.transform(row)\n",
    "\n",
    "        # Select model\n",
    "        model = trained_models[model_name]\n",
    "\n",
    "        # Predict\n",
    "        pred_class = model.predict(row_scaled)[0]\n",
    "\n",
    "        # Decode target\n",
    "        price_range = encoders['Price_Range'].inverse_transform([pred_class])[0]\n",
    "\n",
    "        return f\"Predicted Price Range: {price_range}\"\n",
    "\n",
    "    except Exception as e:\n",
    "        return f\"⚠️ Error during prediction: {str(e)}\"\n",
    "\n",
    "# Gradio Interface\n",
    "demo = gr.Interface(\n",
    "    fn=predict_price_range,\n",
    "    inputs=[\n",
    "        gr.Dropdown(list(trained_models.keys()), label=\"Model\"),\n",
    "        gr.Dropdown(list(encoders['Type'].classes_), label=\"Type\"),\n",
    "        gr.Number(label=\"Ratings\"),\n",
    "        gr.Number(label=\"Reviews\"),\n",
    "        gr.Dropdown(list(encoders['Brand'].classes_), label=\"Brand\"),\n",
    "        gr.Dropdown(list(encoders['Gender'].classes_), label=\"Gender\"),\n",
    "    ],\n",
    "    outputs=\"text\",\n",
    "    title=\"Watch Price Range Predictor\"\n",
    ")\n",
    "\n",
    "demo.launch()\n"
   ]
  }
 ],
 "metadata": {
  "kernelspec": {
   "display_name": "Python 3 (ipykernel)",
   "language": "python",
   "name": "python3"
  },
  "language_info": {
   "codemirror_mode": {
    "name": "ipython",
    "version": 3
   },
   "file_extension": ".py",
   "mimetype": "text/x-python",
   "name": "python",
   "nbconvert_exporter": "python",
   "pygments_lexer": "ipython3",
   "version": "3.12.7"
  }
 },
 "nbformat": 4,
 "nbformat_minor": 5
}
